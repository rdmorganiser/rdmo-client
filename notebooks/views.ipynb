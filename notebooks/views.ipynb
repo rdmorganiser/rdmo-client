{
 "cells": [
  {
   "cell_type": "code",
   "execution_count": null,
   "metadata": {},
   "outputs": [],
   "source": [
    "from rdmo_client import Client\n",
    "\n",
    "BASE_URL = 'http://localhost:8000'\n",
    "AUTH = ('admin', 'admin')\n",
    "TOKEN = '8bd704f41e0def27e0406e5ae8ec479ce575aa8f'\n",
    "URI_PREFIX = 'https://rdmorganiser.github.io/terms/'\n",
    "\n",
    "client = Client(BASE_URL, auth=AUTH)"
   ]
  },
  {
   "cell_type": "code",
   "execution_count": null,
   "metadata": {},
   "outputs": [],
   "source": [
    "client.list_views()"
   ]
  }
 ],
 "metadata": {
  "kernelspec": {
   "display_name": "Python 3 (ipykernel)",
   "language": "python",
   "name": "python3"
  },
  "language_info": {
   "codemirror_mode": {
    "name": "ipython",
    "version": 3
   },
   "file_extension": ".py",
   "mimetype": "text/x-python",
   "name": "python",
   "nbconvert_exporter": "python",
   "pygments_lexer": "ipython3",
   "version": "3.13.1"
  }
 },
 "nbformat": 4,
 "nbformat_minor": 4
}
