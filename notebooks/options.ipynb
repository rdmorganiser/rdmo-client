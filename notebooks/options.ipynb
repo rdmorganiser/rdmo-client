{
 "cells": [
  {
   "cell_type": "code",
   "execution_count": null,
   "metadata": {},
   "outputs": [],
   "source": [
    "from rdmo_client import Client\n",
    "\n",
    "BASE_URL = 'http://localhost:8000'\n",
    "AUTH = ('api', 'api')\n",
    "TOKEN = '8bd704f41e0def27e0406e5ae8ec479ce575aa8f'\n",
    "URI_PREFIX = 'https://rdmorganiser.github.io/terms/'\n",
    "\n",
    "client = Client(BASE_URL, auth=AUTH)"
   ]
  },
  {
   "cell_type": "code",
   "execution_count": null,
   "metadata": {},
   "outputs": [],
   "source": [
    "client.list_optionsets()"
   ]
  },
  {
   "cell_type": "code",
   "execution_count": null,
   "metadata": {},
   "outputs": [],
   "source": [
    "client.list_optionsets()"
   ]
  },
  {
   "cell_type": "code",
   "execution_count": null,
   "metadata": {},
   "outputs": [],
   "source": [
    "optionset = client.create_optionset({\n",
    "    'uri_prefix': URI_PREFIX,\n",
    "    'uri_path': 'new',\n",
    "    'order': 666,\n",
    "})"
   ]
  },
  {
   "cell_type": "code",
   "execution_count": null,
   "metadata": {},
   "outputs": [],
   "source": [
    "for i in range(5):\n",
    "    uri_path = f'new-{i:02}'\n",
    "\n",
    "    client.create_option({\n",
    "        'uri_prefix': URI_PREFIX,\n",
    "        'uri_path': uri_path,\n",
    "        'order': i,\n",
    "        'optionset': optionset['id']\n",
    "    })"
   ]
  },
  {
   "cell_type": "code",
   "execution_count": null,
   "metadata": {},
   "outputs": [],
   "source": [
    "for option in client.list_options(optionset=optionset['id']):\n",
    "    option.update({\n",
    "        'text_en': option['uri_path'] + '-en',\n",
    "        'text_de': option['uri_path'] + '-de'\n",
    "    })\n",
    "    client.update_option(option['id'], option)"
   ]
  },
  {
   "cell_type": "code",
   "execution_count": null,
   "metadata": {},
   "outputs": [],
   "source": [
    "client.destroy_optionset(optionset['id'])"
   ]
  }
 ],
 "metadata": {
  "kernelspec": {
   "display_name": "Python 3 (ipykernel)",
   "language": "python",
   "name": "python3"
  },
  "language_info": {
   "codemirror_mode": {
    "name": "ipython",
    "version": 3
   },
   "file_extension": ".py",
   "mimetype": "text/x-python",
   "name": "python",
   "nbconvert_exporter": "python",
   "pygments_lexer": "ipython3",
   "version": "3.13.1"
  }
 },
 "nbformat": 4,
 "nbformat_minor": 4
}
